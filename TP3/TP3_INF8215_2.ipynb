{
  "nbformat": 4,
  "nbformat_minor": 0,
  "metadata": {
    "colab": {
      "name": "TP3_INF8215-2.ipynb",
      "provenance": [],
      "collapsed_sections": [],
      "toc_visible": true
    },
    "kernelspec": {
      "display_name": "Python 3",
      "language": "python",
      "name": "python3"
    },
    "language_info": {
      "codemirror_mode": {
        "name": "ipython",
        "version": 3
      },
      "file_extension": ".py",
      "mimetype": "text/x-python",
      "name": "python",
      "nbconvert_exporter": "python",
      "pygments_lexer": "ipython3",
      "version": "3.6.5"
    }
  },
  "cells": [
    {
      "cell_type": "code",
      "metadata": {
        "id": "kyJMO46xMXjl",
        "colab_type": "code",
        "colab": {}
      },
      "source": [
        ""
      ],
      "execution_count": 0,
      "outputs": []
    },
    {
      "cell_type": "markdown",
      "metadata": {
        "colab_type": "text",
        "id": "5fHWJhwOXGzh"
      },
      "source": [
        "# INF8215 - Intelligence artif.: méthodes et algorithmes \n",
        "## Automne 2019 - TP3 - Apprentissage machine \n",
        "### Membres de l'équipe\n",
        "    - M\n",
        "    - M\n",
        "    - M\n",
        "\n",
        "Nom d'équipe sur Kaggle: TEAM\n",
        "\n"
      ]
    },
    {
      "cell_type": "markdown",
      "metadata": {
        "colab_type": "text",
        "id": "TmGvqtSVgfXi"
      },
      "source": [
        "## Directives de remise\n",
        "Le travail sera réalisé avec la  même équipe que pour les TPs précédents. Vous remettrez ce fichier nommé TP3\\_NomDuMembre1\\_NomDuMembre2\\_NomDuMembre3.ipynb et vos fichiers de soumission csv dans la boîte de remise sur moodle. \n",
        "\n",
        "Tout devra être remis avant le **13 décembre à 23h55**. Tout travail en retard sera pénalisé d’une valeur de 10\\% par jour de retard.\n",
        "\n",
        "## Barème\n",
        "Partie 1: 9 points\n",
        "\n",
        "Partie 2: 9 points\n",
        "\n",
        "Partie 3: 2 points\n",
        "\n",
        "Bonus : 2 points\n",
        "\n",
        "Pour un total de 22 points possibles sur 20 points.\n"
      ]
    },
    {
      "cell_type": "markdown",
      "metadata": {
        "colab_type": "text",
        "id": "P1et8f3nXGzk"
      },
      "source": [
        "## Apprentissage machine\n",
        "L'apprentissage machine est un domaine de plus en plus exploré et exploité. Pouvoir faire des prédictions en se basant sur des données ouvre la porte à plein de possibilités pour faciliter la vie des gens. Par exemple, un modèle pourrait prédire si un patient souffre ou non d'une maladie en se basant sur des mesures de santé.\n",
        "\n",
        "### But\n",
        "Le but de ce TP est de vous donner un aperçu du déroulement général d'un projet de machine learning tout en vous familiarisant avec des librairies python adaptées.\n",
        "\n",
        "Dans la première partie, vous implémenterez un algorithme de classification multiclasse appelé **softmax regression** à l'aide uniquement de la bibliothèque **numpy** et l'intégrerez à la bibliothèque **scikit-learn**.\n",
        "\n",
        "Dans la deuxième partie, vous prendrez connaissance du **dataset** utilisé pour ce projet. Et vous serez amenés à effectuer le **preprocessing** de ces données pour qu'elles soient utilisables dans les algorithmes de machine learning classiques. Vous utiliserez les bibliothèques **pandas** et **scikit-learn**.\n",
        "\n",
        "Enfin, dans la troisième partie, vous comparerez l'efficacité du modèle que vous avez implémenté avec d'autres modèles déjà implémentés dans **sklearn**. Puis vous tenterez d'améliorer les performances de l'algorithme sélectionné.\n",
        "\n",
        "La dernière partie du TP est de soumettre vos prédictions sur **Kaggle**. Vous devez créer un compte et formez une équipe sur Kaggle: https://www.kaggle.com/. La compétition pour le TP se trouve à l'adresse suivante: https://www.kaggle.com/t/7e5ae1ae92d14e06b2560c9ac5602bf6.\n",
        "\n",
        "### Installation\n",
        "\n",
        "Pour installer **pandas** et **scikit-learn** le plus simple est de télécharger et d'installer **Anaconda**. Cet environnement python regroupe les packages les plus utilisés pour le calcul scientifique et la science des données. Vous pouvez aussi installer directement les packages avec pip.\n",
        "\n",
        "Assurez-vous d'avoir au moins la version **20.0** de **scikit-learn**.\n",
        "\n",
        "Vous trouverez la distribution d'anaconda ici : https://www.anaconda.com/download/ .\n"
      ]
    },
    {
      "cell_type": "markdown",
      "metadata": {
        "colab_type": "text",
        "id": "LYyOL7QAXGzm"
      },
      "source": [
        "## Bonus 1: Compétition (2 points)\n",
        "\n",
        "Lorsque vous soumettez vos résultats sur Kaggle, vous obtiendrez votre performance en terme de **Mean F-Score**. Votre score sera affiché sur le leaderboard publique de Kaggle.  Le top 10 sur le leaderboard privée recevront un bonus de 2pts. Vous pouvez soumettre plusieurs fois et choisir 2 soumissions pour être pris en compte pour le classement final. Attention de ne pas overfit sur les données de tests du classement publique."
      ]
    },
    {
      "cell_type": "markdown",
      "metadata": {
        "colab_type": "text",
        "id": "517JwzlPXGzp"
      },
      "source": [
        "# 1. Softmax Regression (12 points)\n",
        "\n",
        "Dans cette partie vous implémenterez **softmax regression** la généralisation de **logistic regression** qui permet d'effectuer de la classification pour un nombre de classe supérieur à 2.\n",
        "\n",
        "**Pour cet exercice, la contrainte est d'utiliser uniquement la bibliothèque numpy**\n",
        "\n",
        "## Encapsulation avec sklearn\n",
        "\n",
        "La classe **SoftmaxClassifier** hérite des classes **BaseEstimator** et **ClassifierMixin** de **scikit-learn** ce qui nous permettra d'utiliser facilement avec notre classifier les outils fournis par scikit-learn dans la suite du TP.\n",
        "\n",
        "Pour la compatibilité, le classifier doit implémenter obligatoirement les méthodes:\n",
        "\n",
        "* **fit**: responsable de l'entraînement du modèle\n",
        "* **predict_proba**: permet de prédire la probabilité de chaque classe pour chaque exemple du dataset fourni.\n",
        "* **predict**: permet de prédire la classe pour chaque exemple du dataset fourni.\n",
        "* **score**: permet de quantifier l'écart entre les classes prédites et les classes réelles pour le dataset fourni\n",
        "* **fit_predict**: permet de faire un fit et retourne les prédictions faites avec cet ensemble.\n",
        "\n",
        "\n",
        "## Train/Test set:\n",
        "\n",
        "Quand on veut tester les performances de l'apprentissage d'un algorithme de machine learning, on **ne le teste pas sur les données utilisées pour l'apprentissage**.\n",
        "\n",
        "En effet, ce qui nous intéresse c'est que notre algorithme soit **capable de généraliser** ses prédictions à des données qu'il n'a **jamais vu**.\n",
        "\n",
        "Pour illustrer, si on teste un algorithme sur les données d'entrainement, on teste sa capacité à **apprendre par coeur** le dataset et non à **généraliser**.\n",
        "\n",
        "Par conséquent, quand on reçoit un nouveau dataset, la première chose à faire et de le **diviser en deux parties**: un ensemble d'**entraînement** (**70-80%** du dataset) et un ensemble de **test**(**20-30%** du dataset).\n",
        "\n",
        "Tous les algorithmes de **traitement des données** et d'apprentissage devront être appris uniquement sur l'ensemble d'entraînement et appliqués ensuite sur l'ensemble de test.\n",
        "\n",
        "Cela garantit l'absence de connaissances préalables de l'ensemble de test lors de l'entrainement.\n",
        "\n",
        "## Gradient descent\n",
        "\n",
        "La descente de gradient est un algorithme qui permet trouver la solution optimale d'un certains nombre de problèmes. Le principe est le suivant: on définit une **fonction de coût J**  qui caractérise le problème.\n",
        "Cette fonction dépend d'un ensemble de paramètres $\\theta$. La descente de gradient cherche à **minimiser** la fonction de coût en **modifiant itérativement** les paramètres.\n",
        "\n",
        "### Gradient\n",
        "\n",
        "Le gradient de la fonction de coût pour un $\\theta$ donné, correspond à la direction dans laquelle il faut modifier $\\theta$ pour augmenter la valeur de la fonction de coût. Cela correspond donc à la dérivée de la fonction de coût.\n",
        "La fonction de coût est minimale quand le gradient est nul.\n",
        "\n",
        "Concrètement, on initialize $\\theta$ aléatoirement, et on effectue à chaque itération un pas pour réduire la fonction de coût jusqu'à convergence de l'algorithme à un minimum.\n",
        "\n",
        "### Learning rate\n",
        "\n",
        "Le taux d'apprentissage correspond à la taille du pas que l'on va effectuer dans la direction du gradient.\n",
        "Plus il est grand, plus la convergence est rapide mais il y a un risque que l'algorithme diverge.\n",
        "\n",
        "Plus il est petit, plus la convergence est lente.\n",
        "\n",
        "### Batch gradient descent\n",
        "\n",
        "Il existe plusieurs algorithmes de descente de gradient. Nous utiliserons Batch gradient descent.\n",
        "\n",
        "Dans cet algorithme, avant de mettre à jour $\\theta$, on calcule les gradients sur l'ensemble des exemples d'entraînement.\n",
        "\n",
        "### Epoch\n",
        "\n",
        "Il s'agit d'un pas de la descente de gradient, soit une mise à jour de gradient.\n",
        "\n",
        "### Bias/Variance tradeoff\n",
        "\n",
        "Lorsqu'on entraine un algorithme de machine learning on cherche un équilibre entre **biais** et **variance**.\n",
        "\n",
        "Un modèle avec un **biais fort**, est un modèle qui est **trop simple** pour la structure donnée considérée (modèle linéaire pour données quadratiques), cela limite la capacité du modèle à généraliser. On appelle aussi le biais **underfitting**.\n",
        "\n",
        "Un modèle avec une **variance élevée** signifie qu'il est sensible aux petites variations dans les données d'entrainement, cela correspond à l'**overfitting**, c'est-à-dire que le modèle est trop proche de la structure de l'ensemble d'entrainement ce qui **limite sa capacité à généraliser**.\n",
        "\n",
        "Un modèle avec un **biais important** aura une **mauvaise performance** sur l'ensemble d'**entraînement**.\n",
        "Un modèle avec une **variance importante** aura une performance bien **moins bonne** sur l'ensemble de **test** que sur l'ensemble d'**entrainement**.\n",
        "\n",
        "Le classifier **SoftmaxRegression** contient les champs suivants:\n",
        "\n",
        "- `lr` : le rythme d'apprentissage pour la mise à jour des points lors de la descente du gradient;\n",
        "- `n_epochs`: le nombre d'itérations;\n",
        "- `eps`: le seuil pour garder les probabilités dans l'intervalle [self.eps;1.-self.eps];\n",
        "- `threshold`: seuil d'arrèt pour le early stopping;\n",
        "- `early_stopping`: active le early stopping\n",
        "- `nb_features`: le nombre d'attributs pour chaque instance\n",
        "- `nb_classes`: le nombre de classes possible pour le dataset\n",
        "- `theta_`:  la matrice de poids"
      ]
    },
    {
      "cell_type": "code",
      "metadata": {
        "colab_type": "code",
        "id": "UhACgVBXAcUW",
        "colab": {}
      },
      "source": [
        "from sklearn.base import BaseEstimator, ClassifierMixin\n",
        "import numpy as np\n",
        "from tensorflow.keras.utils import to_categorical\n",
        "\n",
        "\n",
        "class SoftmaxClassifier(BaseEstimator, ClassifierMixin):  \n",
        "\n",
        "    def __init__(self, lr = 0.1, alpha = 100, n_epochs = 1000, eps = 1.0e-5,threshold = 1.0e-10 , early_stopping = True):\n",
        "       \n",
        "        self.lr = lr \n",
        "        self.alpha = alpha\n",
        "        self.n_epochs = n_epochs\n",
        "        self.eps = eps\n",
        "        self.threshold = threshold\n",
        "        self.early_stopping = early_stopping\n",
        "        \n",
        "\n",
        "\n",
        "    \"\"\"\n",
        "        In:\n",
        "        X : l'ensemble d'exemple de taille nb_example x nb_features\n",
        "        y : l'ensemble d'étiquette de taille nb_example x 1\n",
        "\n",
        "        Principe:\n",
        "        Initialiser la matrice de poids\n",
        "        Ajouter une colonne de bias à X\n",
        "        Pour chaque epoch\n",
        "            calculer les probabilités\n",
        "            calculer le log loss\n",
        "            calculer le gradient\n",
        "            mettre à jouer les poids\n",
        "            sauvegarder le loss\n",
        "            tester pour early stopping\n",
        "\n",
        "        Out:\n",
        "        self, in sklearn the fit method returns the object itself\n",
        "    \"\"\"\n",
        "\n",
        "    def fit(self, X, y=None):\n",
        "        \n",
        "        prev_loss = np.inf\n",
        "        self.losses_ = []\n",
        "\n",
        "        self.nb_feature = X.shape[1]\n",
        "        self.nb_classes = len(np.unique(y))\n",
        "\n",
        "        X_bias = np.append( np.ones((np.size(X,0), 1)) , X, 1)\n",
        "        self.theta_  = np.random.rand(np.size(X_bias,1),self.nb_classes)\n",
        "        \n",
        "\n",
        "        for epoch in range( self.n_epochs):\n",
        "            probabilities = self.predict_proba(X)\n",
        "            loss = self._cost_function(probabilities, y)\n",
        "            gradient = self._get_gradient(X_bias, y, probabilities)\n",
        "            self.theta_ -= self.lr * gradient\n",
        "            self.losses_.append(loss)\n",
        "\n",
        "            if self.early_stopping:\n",
        "                if prev_loss - loss < self.threshold:\n",
        "                    return self\n",
        "\n",
        "            prev_loss = loss\n",
        "            \n",
        "\n",
        "        return self\n",
        "\n",
        "\n",
        "    def predict_proba(self, X, y=None):\n",
        "        try:\n",
        "            getattr(self, \"theta_\")\n",
        "        except AttributeError:\n",
        "            raise RuntimeError(\"You must train classifer before predicting data!\")\n",
        "        X_bias = np.append( np.ones((np.size(X,0), 1)) , X, 1)\n",
        "        logits = X_bias.dot(self.theta_)\n",
        "\n",
        "        return self._softmax(logits)\n",
        "    \n",
        "    def predict(self, X, y=None):\n",
        "        try:\n",
        "            getattr(self, \"theta_\")\n",
        "        except AttributeError:\n",
        "            raise RuntimeError(\"You must train classifer before predicting data!\")\n",
        "        return np.argmax(self.predict_proba(X), axis=1)\n",
        "\n",
        "    \n",
        "    def fit_predict(self, X, y=None):\n",
        "        self.fit(X, y)\n",
        "        return self.predict(X,y)\n",
        " \n",
        "\n",
        "    def score(self, X, y=None):\n",
        "        probabilities = self.predict_proba(X, y)\n",
        "        return self._cost_function(probabilities, y)\n",
        "    \n",
        "    \n",
        "    def _cost_function(self,probabilities, y ): \n",
        "        one_hot = self._one_hot(y)\n",
        "        np.clip(probabilities, self.eps, 1 - self.eps)\n",
        "        \n",
        "        return (-1 / one_hot.shape[0]) * (np.sum(one_hot * np.log(probabilities)))\n",
        "    \n",
        "\n",
        "    def _one_hot(self,y):\n",
        "        one_hot = np.zeros(((len(y)), self.nb_classes))\n",
        "        row = 0\n",
        "        for col in y:\n",
        "            one_hot[row][col] = 1\n",
        "            row += 1\n",
        "        return one_hot\n",
        "\n",
        "    \n",
        "    def _softmax(self,z):\n",
        "        exp_z = np.exp(z)\n",
        "        return exp_z / np.sum(exp_z)\n",
        "\n",
        "\n",
        "    def _get_gradient(self, X_bias, y, probas):\n",
        "        one_hot = self._one_hot(y)\n",
        "        return (1 / one_hot.shape[0]) * (np.matmul(X_bias.T, (probas - one_hot)))\n",
        "    \n",
        "    "
      ],
      "execution_count": 0,
      "outputs": []
    },
    {
      "cell_type": "markdown",
      "metadata": {
        "colab_type": "text",
        "id": "Yv83c1sWXGzq"
      },
      "source": [
        "### 1.1 One-hot-encoding (1 point)\n",
        "\n",
        "En machine learning pour représenter un vecteur de données catégoriques, on utilise le one-hot encoding.\n",
        "\n",
        "Pour un vecteur comportant 5 exemples et 3 catégories différentes, on le représente sous forme d'une matrice de taille 5 par 3. Cette matrice est entièrement remplie de 0 sauf à l'indice correspondant au numéro de la classe pour chaque exemple.\n",
        "\n",
        "\n",
        "Par exemple\n",
        "$ y = \\left(\\begin{array}{cc} \n",
        "0 \\\\\n",
        "0 \\\\\n",
        "1 \\\\\n",
        "2 \\\\\n",
        "1 \\\\\n",
        "\\end{array}\\right) $\n",
        "\n",
        "devient:\n",
        "\n",
        "$ yohe =  \\left(\\begin{array}{cc} \n",
        "1. & 0. & 0.\\\\\n",
        "1. & 0. & 0.\\\\\n",
        "0. & 1. & 0.\\\\\n",
        "0. & 0. & 1.\\\\\n",
        "0. & 1. & 0.\\\\\n",
        "\\end{array}\\right) $\n",
        "\n",
        "\n",
        "#### Implémentation\n",
        "1. Implémentez  la fonction  *`_one_hot()`*  dans SoftmaxClassifier. \n",
        "\n",
        "Utilisez la fonction _testOneHot_ pour vérifier votre implémentation de la fonction. Vous devriez avoir ces résultats:\n",
        "```\n",
        "Premier test\n",
        "[[1. 0. 0. 0. 0. 0.]\n",
        " [0. 1. 0. 0. 0. 0.]\n",
        " [0. 0. 1. 0. 0. 0.]\n",
        " [0. 0. 0. 1. 0. 0.]\n",
        " [0. 0. 0. 0. 1. 0.]\n",
        " [0. 0. 0. 0. 0. 1.]]\n",
        "\n",
        "Deuxième test\n",
        "[[0. 0. 0. 0. 0. 1.]\n",
        " [0. 0. 0. 0. 0. 1.]\n",
        " [0. 0. 0. 0. 0. 1.]\n",
        " [0. 0. 0. 0. 0. 1.]]\n",
        "\n",
        " Troisième test\n",
        "[[1. 0. 0. 0. 0. 0.]\n",
        " [1. 0. 0. 0. 0. 0.]\n",
        " [1. 0. 0. 0. 0. 0.]\n",
        " [1. 0. 0. 0. 0. 0.]]\n",
        " ```"
      ]
    },
    {
      "cell_type": "code",
      "metadata": {
        "colab_type": "code",
        "id": "HEwBsNVsjvfs",
        "colab": {}
      },
      "source": [
        "def testOneHot():\n",
        "    softmax = SoftmaxClassifier()\n",
        "    softmax.nb_classes = 6 # les classes possibles sont donc 0-5\n",
        "\n",
        "    y1= np.array([0,1,2,3,4,5])\n",
        "    y1.shape = (6,1)\n",
        "    print('Premier test')\n",
        "    print(softmax._one_hot(y1))\n",
        "\n",
        "    y2 = np.array([5,5,5,5])\n",
        "    y2.shape = (4,1)\n",
        "    print('\\nDeuxième test')\n",
        "    print(softmax._one_hot(y2))\n",
        "\n",
        "    y3 = np.array([0,0,0,0])\n",
        "    y3.shape = (4,1)\n",
        "    print('\\nTroisième test')\n",
        "    print(softmax._one_hot(y3))\n",
        "\n",
        "\n",
        "testOneHot()"
      ],
      "execution_count": 0,
      "outputs": []
    },
    {
      "cell_type": "markdown",
      "metadata": {
        "colab_type": "text",
        "id": "vwxvqYj4XGzu"
      },
      "source": [
        "### 1.2 Matrice de poids (1 point)\n",
        "\n",
        "Soit $ X_{m * n} $ la matrice d'exemple et $ \\Theta _{n*K} $ la matrice de poids avec:\n",
        "\n",
        "* **m** le nombre d'exemples\n",
        "* **n** le nombre de features\n",
        "* **k** le nombre de classes\n",
        "\n",
        "Il est d'usage d'ajouter une colonne supplémentaire à X. Cette colonne est remplie de 1 et se trouve au début de la matrice. Elle représente un biais. Pour prendre en compte ce changement, il faut aussi rajouter une ligne à la matrice $\\Theta$.\n",
        "\n",
        "On obtient X_bias$_{m*(n+1)}$ et $ \\Theta _{(n+1)*K} $\n",
        "\n",
        "\n",
        "Intuitivement, à chaque classe K est associée une colonne de $\\theta$.\n",
        "\n",
        "On note $\\theta_k$ le vecteur de dimension n+1 la colonne de poids associée à la prédiction de la classe k.\n",
        "\n",
        "$\\Theta$ = [$\\theta_0$,$\\theta_1$... $\\theta_k$]\n",
        "\n",
        "Ainsi $ z = x * \\Theta $ donne un vecteur de dimension K qui correspond aux **logits** associés à x pour chacune des classes.\n",
        "\n",
        "#### Implémentation\n",
        "1. Instanciez X_bias dans les fonctions  *`fit()`* et `predict_proba()`.\n",
        "2. initialisez $\\Theta$ aléatoirement dans la fonction  *`fit()`*.\n",
        "3. Instanciez aussi le nombre de features et de classe de SoftmaxClassifier dans la fonction  *`fit()`*.\n",
        "\n",
        "**Notez que votre fonction fit n'est pas encore complète.**"
      ]
    },
    {
      "cell_type": "markdown",
      "metadata": {
        "colab_type": "text",
        "id": "6UTIxaGIXGzz"
      },
      "source": [
        "### 1.3 Softmax (1 point)\n",
        "\n",
        "On veut convertir le vecteur de logits **z** obtenu dans la partie précédente, en un **vecteur de probabilité**.\n",
        "\n",
        "Pour cela on définit la **fonction softmax**:\n",
        "\n",
        "$$ \\hat{p_x}^k = softmax(z)_k = \\frac{exp(z_k)}{\\sum_{\\substack{1<j<K}} exp(z_j)} $$\n",
        "\n",
        "Intuitivement, pour un logit de z, $z_k$, on prend l'exponentielle de cette valeur et on la divise par la somme des exponentielles de chaque logit du vecteur **z**. On obtient  $\\hat{p_x}^k$ la probabilité que l'exemple **x** appartienne à la classe **k**.\n",
        "\n",
        "On réitère l'opération pour chaque logit du vecteur **z**. \n",
        "\n",
        "On obtient ainsi un vecteur de probabilités $\\hat{p_x}$ pour un exemple **x**. \n",
        "\n",
        "La division permet de rendre la somme des termes du vecteur $\\hat{p_x}$ égale à 1 ce qui est indispensable dans le cadre des probabilités.\n",
        "\n",
        "#### Implémentation\n",
        "1. Implémentez  la fonction  *`_softmax()`*  dans SoftmaxClassifier. "
      ]
    },
    {
      "cell_type": "markdown",
      "metadata": {
        "colab_type": "text",
        "id": "g5_N31uPXGz2"
      },
      "source": [
        "### 1.4 Prédictions (1 point)\n",
        "\n",
        "Maintenant que vous avez implémentée la fonction **_softmax**, vous pouvez implémenter  les fonctions  **predict_proba** et **predict**  dans SoftmaxClassifier. \n",
        "\n",
        "#### Implémentation\n",
        "1. Implémenter la fonction *`predict_proba()`* de la classe SoftmaxClassifier. Cette fonction retourne les probabilités associées à chaque classe pour chacune des instances à prédire.\n",
        "\n",
        "2. Implémenter la fonction *`predict()`* de la classe SoftmaxClassifier. Cette fonction retourne la classe avec la plus grande probabilité pour chacunes des intances à prédire."
      ]
    },
    {
      "cell_type": "markdown",
      "metadata": {
        "colab_type": "text",
        "id": "cj5Ghd5jXGz6"
      },
      "source": [
        "### 1.5 Fonction de coût Log loss (2 points)\n",
        "\n",
        "Soit la fonction de coût log loss (ou cross entropy):\n",
        "\n",
        "$$ J( \\Theta) = \\frac{-1}{m}\\sum_{\\substack{1<i<m}} \\sum_{\\substack{1<k<K}} y_k^i log( \\hat{p_k}^i ) $$\n",
        "\n",
        "avec:\n",
        "* **K** le nombre de classes\n",
        "* **m** le nombre d'exemples dans les données\n",
        "* $ \\hat{p_k}^i  $  la probabilité que l'exemple i soit de la classe k\n",
        "* $y_k^i$ vaut 1 si la classe cible de l'exemple i est k, 0 sinon\n",
        "\n",
        "Le coût correspond donc à la moyenne multiplié par -1 des sommes des multiplications des probabilités pour chaque classe pour chaque élement. Autrement dit, plus le coût est petit, plus les prédictions correspondent bien aux étiquettes.\n",
        "\n",
        "\n",
        "**Détail d'implémentation:** La fonction n'est pas définie pour des valeurs de probabilité de 0 ou 1. Il faut donc s'assurer que étant donné $\\epsilon$, les probabilités sont comprises dans [$\\epsilon$, 1. - $\\epsilon$].\n",
        "#### Implémentation\n",
        "1. Implémentez  la fonction  *`_cost_function()`*  dans SoftmaxClassifier en prenant en utilisant la variable self.eps. Utilisez le format one-hot pour représenter $y_k^i$.\n",
        "2.  Utilisez *`_cost_function()`* pour calculer la variable *`loss`* dans la fonction `fit()`"
      ]
    },
    {
      "cell_type": "markdown",
      "metadata": {
        "colab_type": "text",
        "id": "vODCJbRaXGz-"
      },
      "source": [
        "### 1.6 Gradient de la fonction de coût (1 point)\n",
        "\n",
        "Le **gradient de J** par rapport à la classe k (par rapport à $\\theta_k$) est :\n",
        "\n",
        "\n",
        "$$ \\Delta_{\\theta_k}J( \\Theta) = \\frac{1}{m} \\sum_{\\substack{1<i<m}}( \\hat{p_k}^i - y_k^i)x^i  $$\n",
        "\n",
        "avec:\n",
        "* **K** le nombre de classes\n",
        "* **m** le nombre d'exemples dans les données\n",
        "* $ \\hat{p_k}^i  $  la probabilité que l'exemple i soit de la classe k\n",
        "* $y_k^i$ vaut 1 si la classe cible de l'exemple i est k, 0 sinon\n",
        "\n",
        "Sous **forme matricielle**, on peut écrire le **gradient de J par rapport à $\\Theta$**:\n",
        "$$ \\Delta_J( \\Theta) = \\frac{1}{m} X_{bias}^T *( \\hat{p} - y_{ohe}) $$\n",
        "\n",
        "avec:\n",
        "* $\\hat{p}$ la matrice de probabilité prédite pour chaque example et pour chaque classe\n",
        "* $y_{ohe}$ la version one-hot de y\n",
        "* $X_{bias}^T$  la matrice transposée de $X_{bias}$\n",
        "* **\\*** le produit matriciel\n",
        "\n",
        "#### Implémentation\n",
        "1. Implémentez  la fonction  *`_get_gradient()`*  dans SoftmaxClassifier en vous basant sur la forme matricielle du gradient."
      ]
    },
    {
      "cell_type": "markdown",
      "metadata": {
        "colab_type": "text",
        "id": "Y5EOpj9TXG0B"
      },
      "source": [
        "### 1.7 Mise à jour des poids (1 point)\n",
        "\n",
        "Quand le gradient a été calculé, il faut mettre à jour les poids avec ces gradients.\n",
        "\n",
        "$$ \\Theta  = \\Theta - \\gamma \\Delta J( \\Theta) $$\n",
        "\n",
        "\n",
        "avec:\n",
        "* $\\Theta$ la matrice de poids\n",
        "* $\\gamma$  le taux d'apprentissage\n",
        "* $\\Delta J( \\Theta)$ le gradient de $J( \\Theta)$ selon $\\Theta$\n",
        "\n",
        "#### Implémentation\n",
        "1. Mettez à jour la variable **self.theta_** dans la fonction `fit()`  dans SoftmaxClassifier."
      ]
    },
    {
      "cell_type": "markdown",
      "metadata": {
        "colab_type": "text",
        "id": "9QrP9uYPXG0I"
      },
      "source": [
        "### 1.8 Évaluation (1 point)\n",
        "\n",
        "Quand on veut évaluer la performance du modèle **après entrainement**, on utilise la fonction de coût. Autrement dit, on compare les prédictions avec les vrais valeurs et calcule un score.\n",
        "\n",
        "#### Implémentation\n",
        "1. Implémentez la fonction `score()` qui permet d'évaluer la qualité de la prédiction **après entrainement** dans SoftmaxClassifier. Elle utilise le log loss comme métrique."
      ]
    },
    {
      "cell_type": "markdown",
      "metadata": {
        "colab_type": "text",
        "id": "Ewh3I_jEXG0N"
      },
      "source": [
        "### 1.9 Early stopping (1 point)\n",
        "\n",
        "Un trop grand nombre d'**epoch** peut résulter en **overfitting**.\n",
        "Pour pallier à ce problème, on peut utiliser le mécanisme d'**early stopping**.\n",
        "Il s'agit d'arrêter l'entraînement si la différence de la fonction de coût entre deux **epochs consécutives** est inférieure à un **seuil**.\n",
        "\n",
        "\n",
        "\n",
        "\n",
        "#### Implémentation\n",
        "\n",
        "1. Ajouter le mécanisme d'**early stopping**  quand le booléen **self.early_stopping** est vrai dans la fonction `fit()`. Le seuil est donné par la variable **self.threshold**."
      ]
    },
    {
      "cell_type": "markdown",
      "metadata": {
        "colab_type": "text",
        "id": "JdNEVRveXG0Q"
      },
      "source": [
        "### 1.10 Test de la solution (2 points)\n",
        "\n",
        "Le code ci-dessous importe le dataset de classification multiclasse **iris** disponible sur sklearn. Les données sont divisées en deux parties, l'ensemble d'entraînement et l'ensemble de test, puis elles sont normalisées.\n",
        "\n",
        "Le classifier est entrainé sur l'ensemble d'entrainement et testé sur l'ensemble de test.\n",
        "\n",
        "Le but de cette partie est juste de vérifier votre implémentation **quand vous êtes sûrs que votre code fonctionne**."
      ]
    },
    {
      "cell_type": "code",
      "metadata": {
        "colab_type": "code",
        "id": "1-2UipMRXG0R",
        "colab": {}
      },
      "source": [
        "import numpy as np\n",
        "from sklearn.datasets import load_iris\n",
        "from sklearn.model_selection import train_test_split\n",
        "from sklearn.preprocessing import StandardScaler\n",
        "\n",
        "# load dataset\n",
        "data,target =load_iris().data,load_iris().target\n",
        "\n",
        "# split data in train/test sets\n",
        "X_train, X_test, y_train, y_test = train_test_split( data, target, test_size=0.33, random_state=42)\n",
        "\n",
        "# standardize columns using normal distribution\n",
        "# fit on X_train and not on X_test to avoid Data Leakage\n",
        "s = StandardScaler()\n",
        "X_train = s.fit_transform(X_train)\n",
        "X_test = s.transform(X_test)"
      ],
      "execution_count": 0,
      "outputs": []
    },
    {
      "cell_type": "code",
      "metadata": {
        "colab_type": "code",
        "id": "8qnflIdzXG0T",
        "colab": {}
      },
      "source": [
        "cl = SoftmaxClassifier()\n",
        "\n",
        "# train on X_train and not on X_test to avoid overfitting\n",
        "train_p = cl.fit_predict(X_train,y_train)\n",
        "test_p = cl.predict(X_test)"
      ],
      "execution_count": 0,
      "outputs": []
    },
    {
      "cell_type": "markdown",
      "metadata": {
        "colab_type": "text",
        "id": "hFt-r3nQXG0V"
      },
      "source": [
        "Si vous obtenez des valeurs relativement proches pour l'ensemble de test et d'entrainement, et qu'elles sont au moins supérieures à 0.8, votre modèle devrait être correct"
      ]
    },
    {
      "cell_type": "code",
      "metadata": {
        "colab_type": "code",
        "id": "GmqcqadpXG0W",
        "outputId": "ac77f38a-82a1-4405-bcd0-8f9213b1038f",
        "colab": {}
      },
      "source": [
        "from sklearn.metrics import precision_recall_fscore_support\n",
        "\n",
        "# display precision, recall and f1-score on train/test set\n",
        "print(\"train : \"+ str(precision_recall_fscore_support(y_train, train_p,average = \"macro\")))\n",
        "print(\"test : \"+ str(precision_recall_fscore_support(y_test, test_p,average = \"macro\")))"
      ],
      "execution_count": 0,
      "outputs": [
        {
          "output_type": "stream",
          "text": [
            "train : (0.7743155537273184, 0.7705882352941176, 0.7396825396825397, None)\n",
            "test : (0.8434343434343434, 0.7555555555555555, 0.7159606332905435, None)\n"
          ],
          "name": "stdout"
        }
      ]
    },
    {
      "cell_type": "markdown",
      "metadata": {
        "colab_type": "text",
        "id": "r3FmllqgXG0d"
      },
      "source": [
        "# 2. Data preprocessing (6 points)\n",
        "\n",
        "##  Kaggle \n",
        "Kaggle est un site dédié au machine learning. On y retrouve un grand nombre de dataset.\n",
        "Des compétitions sont organisées par des organisations. Ces dernières fournissent un dataset et un objectif. Les \"kagglers\" qui participent à ces compétitions soumettent leurs résultats en ligne. Il y a souvent des prix ou des emplois pour ceux qui obtiennent les meilleurs résultats.\n",
        "\n",
        "Il s'agit d'un bon moyen pour développer ses compétences en machine learning sur des vrais datasets.\n",
        "\n",
        "Vous devez créer un compte et formez une équipe sur Kaggle: https://www.kaggle.com/. La compétition pour le TP se trouve à l'adresse suivante: https://www.kaggle.com/c/tp3-inf8215-a19.\n",
        "\n",
        "\n",
        "## Income dataset\n",
        "Le dataset que nous utiliserons est le \"Income dataset\" disponible sur le site de la compétition. C'est une version modifiée du dataset \"Adult\" de UCI qui se trouve à cette adresse: https://archive.ics.uci.edu/ml/datasets/Adult.\n",
        "\n",
        "Il s'agit d'un problème de **classification binaire** du salaire de la personne. Le but est de prédire dans quel catégorie ils appartiennent:\n",
        "* $\\lt=50K$\n",
        "* $\\gt50K$\n",
        "\n",
        "Pour plus d'informations sur les données, lisez la description sur kaggle.\n",
        "\n",
        "## Déroulement d'un projet de machine learning\n",
        "\n",
        "Le but de la suite de ce TP est de vous faire étudier une version simplifiée d'un projet complet de machine learning:\n",
        "\n",
        "1. Nettoyage des données, traitement des valeurs manquantes\n",
        "2. Mise en forme des données pour pouvoir les utiliser dans les algorithmes de machine learning\n",
        "3. Feature engineering: transformation ou combinaison de features entre elles\n",
        "4. Comparaison des performances des différents choix effectués lors du traîtement des données\n",
        "5. Comparaison des performances de différents modèles (dont celui implémenté en première partie)\n",
        "6. Optimisation des hyper-paramètres\n",
        "\n",
        "## Scikit-learn\n",
        "http://scikit-learn.org/stable/\n",
        "\n",
        "Il s'agit d'une bibliothèque de machine learning et data mining, elle propose des outils pour l'analyse et le traîtement des données,  des algorithmes classiques de machine learning comme les réseaux de neuronnes, la régression logistique, les SVM ou autre, enfin des outils permettant de comparer les modèles entre eux comme la cross validation.\n",
        "\n",
        "## Pandas\n",
        "\n",
        "Une bibliothèque permettant de stocker des données et de les manipuler facilement\n",
        "\n",
        "Les deux éléments de base de pandas sont le dataframe et la serie.\n",
        "\n",
        "https://pandas.pydata.org/pandas-docs/version/0.23/generated/pandas.DataFrame.html\n",
        "\n",
        "## Data processing tutorial\n",
        "\n",
        "**Avant de continuer le TP**, familiarisez-vous avec le **pré-traitement des données**, **pandas** et **scikit-learn**, un tutoriel est disponible dans le fichier: **data_processing_tutorial.ipynb**"
      ]
    },
    {
      "cell_type": "markdown",
      "metadata": {
        "colab_type": "text",
        "id": "uJxSGCnOXG0e"
      },
      "source": [
        "## Dataset\n",
        "\n",
        "#### Chargement de l'ensemble d'entraînement et de l'ensemble de test"
      ]
    },
    {
      "cell_type": "code",
      "metadata": {
        "id": "KRK8EeSZNKLk",
        "colab_type": "code",
        "outputId": "1efd4875-cef5-4d42-ccf9-d17e376ff48e",
        "colab": {
          "base_uri": "https://localhost:8080/",
          "height": 122
        }
      },
      "source": [
        "#in case we are running the notebook on the colab uncomment this\n",
        "from google.colab import drive\n",
        "drive.mount('/content/drive')"
      ],
      "execution_count": 0,
      "outputs": [
        {
          "output_type": "stream",
          "text": [
            "Go to this URL in a browser: https://accounts.google.com/o/oauth2/auth?client_id=947318989803-6bn6qk8qdgf4n4g3pfee6491hc0brc4i.apps.googleusercontent.com&redirect_uri=urn%3aietf%3awg%3aoauth%3a2.0%3aoob&response_type=code&scope=email%20https%3a%2f%2fwww.googleapis.com%2fauth%2fdocs.test%20https%3a%2f%2fwww.googleapis.com%2fauth%2fdrive%20https%3a%2f%2fwww.googleapis.com%2fauth%2fdrive.photos.readonly%20https%3a%2f%2fwww.googleapis.com%2fauth%2fpeopleapi.readonly\n",
            "\n",
            "Enter your authorization code:\n",
            "··········\n",
            "Mounted at /content/drive\n"
          ],
          "name": "stdout"
        }
      ]
    },
    {
      "cell_type": "code",
      "metadata": {
        "colab_type": "code",
        "id": "KrmSiTseXG0f",
        "colab": {}
      },
      "source": [
        "import pandas as pd\n",
        "\n",
        "PATH = \"drive/My Drive/Colab Notebooks/TP3_data/\" # changer le path avec votre path\n",
        "X_train = pd.read_csv(PATH + \"train.csv\")\n",
        "X_test = pd.read_csv(PATH + \"test.csv\")\n",
        "X_test['Income'] = \"\""
      ],
      "execution_count": 0,
      "outputs": []
    },
    {
      "cell_type": "markdown",
      "metadata": {
        "colab_type": "text",
        "id": "996_M0-sXG0w"
      },
      "source": [
        "#### 5 premiers exemples de l'ensemble d'entraînement"
      ]
    },
    {
      "cell_type": "code",
      "metadata": {
        "colab_type": "code",
        "id": "s2U3Xs73-rDr",
        "outputId": "f5724e37-216a-461a-df0e-b2ed27e433d0",
        "colab": {
          "base_uri": "https://localhost:8080/",
          "height": 394
        }
      },
      "source": [
        "X_train.head()"
      ],
      "execution_count": 0,
      "outputs": [
        {
          "output_type": "execute_result",
          "data": {
            "text/html": [
              "<div>\n",
              "<style scoped>\n",
              "    .dataframe tbody tr th:only-of-type {\n",
              "        vertical-align: middle;\n",
              "    }\n",
              "\n",
              "    .dataframe tbody tr th {\n",
              "        vertical-align: top;\n",
              "    }\n",
              "\n",
              "    .dataframe thead th {\n",
              "        text-align: right;\n",
              "    }\n",
              "</style>\n",
              "<table border=\"1\" class=\"dataframe\">\n",
              "  <thead>\n",
              "    <tr style=\"text-align: right;\">\n",
              "      <th></th>\n",
              "      <th>index</th>\n",
              "      <th>Age</th>\n",
              "      <th>Workclass</th>\n",
              "      <th>Final weight</th>\n",
              "      <th>Education</th>\n",
              "      <th>Marital-status</th>\n",
              "      <th>Occupation</th>\n",
              "      <th>Relationship</th>\n",
              "      <th>Sex</th>\n",
              "      <th>Capital-gain</th>\n",
              "      <th>Capital-loss</th>\n",
              "      <th>Hours per week</th>\n",
              "      <th>Native country</th>\n",
              "      <th>Income</th>\n",
              "    </tr>\n",
              "  </thead>\n",
              "  <tbody>\n",
              "    <tr>\n",
              "      <th>0</th>\n",
              "      <td>36721</td>\n",
              "      <td>36</td>\n",
              "      <td>Private</td>\n",
              "      <td>31023</td>\n",
              "      <td>Masters</td>\n",
              "      <td>Married-civ-spouse</td>\n",
              "      <td>Exec-managerial</td>\n",
              "      <td>Husband</td>\n",
              "      <td>Male</td>\n",
              "      <td>0</td>\n",
              "      <td>0</td>\n",
              "      <td>50</td>\n",
              "      <td>United-States</td>\n",
              "      <td>&gt;50K.</td>\n",
              "    </tr>\n",
              "    <tr>\n",
              "      <th>1</th>\n",
              "      <td>2638</td>\n",
              "      <td>52</td>\n",
              "      <td>?</td>\n",
              "      <td>159755</td>\n",
              "      <td>Assoc-voc</td>\n",
              "      <td>Married-civ-spouse</td>\n",
              "      <td>?</td>\n",
              "      <td>Husband</td>\n",
              "      <td>Male</td>\n",
              "      <td>0</td>\n",
              "      <td>0</td>\n",
              "      <td>50</td>\n",
              "      <td>United-States</td>\n",
              "      <td>&gt;50K</td>\n",
              "    </tr>\n",
              "    <tr>\n",
              "      <th>2</th>\n",
              "      <td>36214</td>\n",
              "      <td>36</td>\n",
              "      <td>Private</td>\n",
              "      <td>359001</td>\n",
              "      <td>Assoc-voc</td>\n",
              "      <td>Divorced</td>\n",
              "      <td>Craft-repair</td>\n",
              "      <td>Not-in-family</td>\n",
              "      <td>Male</td>\n",
              "      <td>0</td>\n",
              "      <td>0</td>\n",
              "      <td>40</td>\n",
              "      <td>United-States</td>\n",
              "      <td>&lt;=50K.</td>\n",
              "    </tr>\n",
              "    <tr>\n",
              "      <th>3</th>\n",
              "      <td>27010</td>\n",
              "      <td>42</td>\n",
              "      <td>Self-emp-inc</td>\n",
              "      <td>188615</td>\n",
              "      <td>Bachelors</td>\n",
              "      <td>Married-civ-spouse</td>\n",
              "      <td>Sales</td>\n",
              "      <td>Husband</td>\n",
              "      <td>Male</td>\n",
              "      <td>0</td>\n",
              "      <td>0</td>\n",
              "      <td>60</td>\n",
              "      <td>United-States</td>\n",
              "      <td>&gt;50K</td>\n",
              "    </tr>\n",
              "    <tr>\n",
              "      <th>4</th>\n",
              "      <td>27506</td>\n",
              "      <td>44</td>\n",
              "      <td>Private</td>\n",
              "      <td>43711</td>\n",
              "      <td>Bachelors</td>\n",
              "      <td>Never-married</td>\n",
              "      <td>Other-service</td>\n",
              "      <td>Not-in-family</td>\n",
              "      <td>Male</td>\n",
              "      <td>0</td>\n",
              "      <td>0</td>\n",
              "      <td>48</td>\n",
              "      <td>United-States</td>\n",
              "      <td>&lt;=50K</td>\n",
              "    </tr>\n",
              "  </tbody>\n",
              "</table>\n",
              "</div>"
            ],
            "text/plain": [
              "   index  Age      Workclass  ...  Hours per week  Native country   Income\n",
              "0  36721   36        Private  ...              50   United-States    >50K.\n",
              "1   2638   52              ?  ...              50   United-States     >50K\n",
              "2  36214   36        Private  ...              40   United-States   <=50K.\n",
              "3  27010   42   Self-emp-inc  ...              60   United-States     >50K\n",
              "4  27506   44        Private  ...              48   United-States    <=50K\n",
              "\n",
              "[5 rows x 14 columns]"
            ]
          },
          "metadata": {
            "tags": []
          },
          "execution_count": 3
        }
      ]
    },
    {
      "cell_type": "markdown",
      "metadata": {
        "colab_type": "text",
        "id": "kSM01gVZXG0z"
      },
      "source": [
        "#### 5 premiers exemples de l'ensemble de test"
      ]
    },
    {
      "cell_type": "code",
      "metadata": {
        "colab_type": "code",
        "id": "UMVNvQ9yXG00",
        "outputId": "c89e8281-36f1-4704-9c46-3944e9c9ae5b",
        "colab": {
          "base_uri": "https://localhost:8080/",
          "height": 343
        }
      },
      "source": [
        "X_test.head()"
      ],
      "execution_count": 0,
      "outputs": [
        {
          "output_type": "execute_result",
          "data": {
            "text/html": [
              "<div>\n",
              "<style scoped>\n",
              "    .dataframe tbody tr th:only-of-type {\n",
              "        vertical-align: middle;\n",
              "    }\n",
              "\n",
              "    .dataframe tbody tr th {\n",
              "        vertical-align: top;\n",
              "    }\n",
              "\n",
              "    .dataframe thead th {\n",
              "        text-align: right;\n",
              "    }\n",
              "</style>\n",
              "<table border=\"1\" class=\"dataframe\">\n",
              "  <thead>\n",
              "    <tr style=\"text-align: right;\">\n",
              "      <th></th>\n",
              "      <th>index</th>\n",
              "      <th>Age</th>\n",
              "      <th>Workclass</th>\n",
              "      <th>Final weight</th>\n",
              "      <th>Education</th>\n",
              "      <th>Marital-status</th>\n",
              "      <th>Occupation</th>\n",
              "      <th>Relationship</th>\n",
              "      <th>Sex</th>\n",
              "      <th>Capital-gain</th>\n",
              "      <th>Capital-loss</th>\n",
              "      <th>Hours per week</th>\n",
              "      <th>Native country</th>\n",
              "      <th>Income</th>\n",
              "    </tr>\n",
              "  </thead>\n",
              "  <tbody>\n",
              "    <tr>\n",
              "      <th>0</th>\n",
              "      <td>7762</td>\n",
              "      <td>18</td>\n",
              "      <td>Private</td>\n",
              "      <td>423024.0</td>\n",
              "      <td>HS-grad</td>\n",
              "      <td>Never-married</td>\n",
              "      <td>Other-service</td>\n",
              "      <td>Not-in-family</td>\n",
              "      <td>Male</td>\n",
              "      <td>0.0</td>\n",
              "      <td>0.0</td>\n",
              "      <td>20.0</td>\n",
              "      <td>United-States</td>\n",
              "      <td></td>\n",
              "    </tr>\n",
              "    <tr>\n",
              "      <th>1</th>\n",
              "      <td>23881</td>\n",
              "      <td>17</td>\n",
              "      <td>Private</td>\n",
              "      <td>178953.0</td>\n",
              "      <td>12th</td>\n",
              "      <td>Never-married</td>\n",
              "      <td>Sales</td>\n",
              "      <td>Own-child</td>\n",
              "      <td>Female</td>\n",
              "      <td>0.0</td>\n",
              "      <td>0.0</td>\n",
              "      <td>20.0</td>\n",
              "      <td>United-States</td>\n",
              "      <td></td>\n",
              "    </tr>\n",
              "    <tr>\n",
              "      <th>2</th>\n",
              "      <td>30507</td>\n",
              "      <td>25</td>\n",
              "      <td>Local-gov</td>\n",
              "      <td>348986.0</td>\n",
              "      <td>HS-grad</td>\n",
              "      <td>Never-married</td>\n",
              "      <td>Handlers-cleaners</td>\n",
              "      <td>Other-relative</td>\n",
              "      <td>Male</td>\n",
              "      <td>0.0</td>\n",
              "      <td>0.0</td>\n",
              "      <td>40.0</td>\n",
              "      <td>United-States</td>\n",
              "      <td></td>\n",
              "    </tr>\n",
              "    <tr>\n",
              "      <th>3</th>\n",
              "      <td>28911</td>\n",
              "      <td>20</td>\n",
              "      <td>Private</td>\n",
              "      <td>218215.0</td>\n",
              "      <td>Some-college</td>\n",
              "      <td>Never-married</td>\n",
              "      <td>Sales</td>\n",
              "      <td>Own-child</td>\n",
              "      <td>Female</td>\n",
              "      <td>0.0</td>\n",
              "      <td>0.0</td>\n",
              "      <td>30.0</td>\n",
              "      <td>United-States</td>\n",
              "      <td></td>\n",
              "    </tr>\n",
              "    <tr>\n",
              "      <th>4</th>\n",
              "      <td>19484</td>\n",
              "      <td>47</td>\n",
              "      <td>Private</td>\n",
              "      <td>244025.0</td>\n",
              "      <td>HS-grad</td>\n",
              "      <td>Never-married</td>\n",
              "      <td>Machine-op-inspct</td>\n",
              "      <td>Unmarried</td>\n",
              "      <td>Male</td>\n",
              "      <td>0.0</td>\n",
              "      <td>0.0</td>\n",
              "      <td>56.0</td>\n",
              "      <td>Puerto-Rico</td>\n",
              "      <td></td>\n",
              "    </tr>\n",
              "  </tbody>\n",
              "</table>\n",
              "</div>"
            ],
            "text/plain": [
              "   index  Age   Workclass  ...  Hours per week  Native country Income\n",
              "0   7762   18     Private  ...            20.0   United-States       \n",
              "1  23881   17     Private  ...            20.0   United-States       \n",
              "2  30507   25   Local-gov  ...            40.0   United-States       \n",
              "3  28911   20     Private  ...            30.0   United-States       \n",
              "4  19484   47     Private  ...            56.0     Puerto-Rico       \n",
              "\n",
              "[5 rows x 14 columns]"
            ]
          },
          "metadata": {
            "tags": []
          },
          "execution_count": 4
        }
      ]
    },
    {
      "cell_type": "markdown",
      "metadata": {
        "colab_type": "text",
        "id": "vli9bS98XG04"
      },
      "source": [
        "#### 5 premiers exemples de l'attribut à prédire"
      ]
    },
    {
      "cell_type": "code",
      "metadata": {
        "colab_type": "code",
        "id": "HlgNDI3BXG05",
        "outputId": "4edfadd4-bc85-4642-9d36-fddb128260ef",
        "colab": {
          "base_uri": "https://localhost:8080/",
          "height": 119
        }
      },
      "source": [
        "y_train = X_train['Income']\n",
        "y_train.head()"
      ],
      "execution_count": 0,
      "outputs": [
        {
          "output_type": "execute_result",
          "data": {
            "text/plain": [
              "0      >50K.\n",
              "1       >50K\n",
              "2     <=50K.\n",
              "3       >50K\n",
              "4      <=50K\n",
              "Name: Income, dtype: object"
            ]
          },
          "metadata": {
            "tags": []
          },
          "execution_count": 5
        }
      ]
    },
    {
      "cell_type": "markdown",
      "metadata": {
        "colab_type": "text",
        "id": "qkm_PxPOXG08"
      },
      "source": [
        "## Travail demandé\n",
        "\n",
        "En vous appuyant sur le tutoriel fourni, vous devez écrire un pipeline complet de transformation pour chacune des colonnes du dataset.\n",
        "\n",
        "Vous êtes **libres** de vos choix, mais vous devez les **justifer** colonne par colonne.\n",
        "Par exemple, vous pouvez choisir de combiner des colonnes entre elles, de séparer une colonne en plusieurs ou encore d'éliminer complètement une colonne si vous le justifiez correctement.\n"
      ]
    },
    {
      "cell_type": "markdown",
      "metadata": {
        "colab_type": "text",
        "id": "HOX3V-pbBNYm"
      },
      "source": [
        "####  2.1 Preprocessing (3 points)\n",
        "\n",
        "Vous devez justifier toutes les transformations que vous faites sur les données pour faciliter l'utilisation des données lors de l'entraînement du modèle. Vous pouvez justifier avec de la logique ou des preuves numériques. **Attention de ne pas tomber dans le piège du overfitting**.\n",
        "\n",
        "**ATTENTION** Vous devez avoir un meilleur score que le baseline pour le classement privé pour avoir votre point au complet pour la partie 2.1. Ce score est une bonne mesure pour savoir si votre traitement est correct.\n",
        "\n",
        "1. Justifier tous les choix de traitements que vous faites ici."
      ]
    },
    {
      "cell_type": "markdown",
      "metadata": {
        "colab_type": "text",
        "id": "bjKBBvUMLpFD"
      },
      "source": [
        "\n",
        "Colonne(s) | Traitement | Justification |\n",
        " :---: | :---: | :---: |\n",
        " Index | Nous l'enlevons complètement. | Aucun effet sur la valeur 'income' |\n",
        " Age | Nous avons normalisé les valeurs | Nous voulions mettre toutes les valeurs numériques à la même échelle |\n",
        " Workclass | Nous avons converti les catégories en 4 valeurs binaires | Les valeurs sont catégorielles et textuelles. Nous avons regroupés les travailleurs du secteur public et ceux autonomes en 2 groupes, car ces secteurs sont similaires.  |\n",
        " Final weight | Nous l'enlevons complètement. | Aucun effet sur la valeur 'income' |\n",
        " Education | Nous avons converti les catégories en 8 valeurs binaires | Les valeurs sont catégorielles et textuelles. Aussi, nous avons regroupé tous ceux avec une éduction High School ou plus bas, car nous avons jugé que c'était similaire |\n",
        " Marital-Status | Nous avons converti les catégories en 5 valeurs binaires | Les valeurs sont catégorielles et textuelles. Aussi, nous avons regroupé tous ceux étant mariés, car similaires |\n",
        " Occupation | Nous avons converti les catégories en 15 valeurs binaires | Les valeurs sont catégorielles et textuelles |\n",
        " Relationship | Nous avons converti les catégories en 7 valeurs binaires | Les valeurs sont catégorielles et textuelles |\n",
        " Sex | Nous avons converti les catégories en 2 valeurs binaires | Les valeurs sont binaires (homme ou femme) et textuelles |\n",
        " Capital Gain | Nous avons normalisé les valeurs | Nous voulions mettre toutes les valeurs numériques à la même échelle |\n",
        " Capital Loss | Nous avons normalisé les valeurs| Nous voulions mettre toutes les valeurs numériques à la même échelle |\n",
        " Hours per week | Nous avons normalisé les valeurs| Nous voulions mettre toutes les valeurs numériques à la même échelle |\n",
        " Native Country | Nous avons converti les catégories en 2 valeurs binaires | Les valeurs sont catégorielles et textuelles. Nous avons choisi de conserver seulement les États-Unies et Autres |"
      ]
    },
    {
      "cell_type": "markdown",
      "metadata": {
        "colab_type": "text",
        "id": "ssOZnxpIXG1K"
      },
      "source": [
        "### 2.2 Pipeline (3 points)\n",
        "Pour faciliter le processus du traitement de données, une pipeline est utilisée. Cela permet de rapidement modifier les transformations appliquées sur l'ensemble de données.\n",
        "\n",
        "#### Implémentation\n",
        "1. Implémenter et associer vos méthodes de traitements a des pipelines.\n",
        "2. Mettez tous vos pipelines dans le ColumnTransformer."
      ]
    },
    {
      "cell_type": "code",
      "metadata": {
        "colab_type": "code",
        "id": "7jD82yEyW8PQ",
        "colab": {}
      },
      "source": [
        "from sklearn.base import BaseEstimator, TransformerMixin\n",
        "## Wrapper pour vous aider pour les pipelines\n",
        "class TransformationWrapper(BaseEstimator,TransformerMixin):\n",
        "    \n",
        "    def __init__(self,fitation= None, transformation = None): \n",
        "        \n",
        "        self.transformation = transformation\n",
        "        self.fitation = fitation\n",
        "        \n",
        "    \n",
        "        \n",
        "    def fit(self, X, y=None):\n",
        "        X = pd.DataFrame(X)\n",
        "        self.data_ = None\n",
        "        self.column_name_ = X.columns[0]\n",
        "        if self.fitation == None:\n",
        "            return self\n",
        "        \n",
        "        self.data_ = [self.fitation(X[self.column_name_])]\n",
        "        return self  \n",
        "    \n",
        "    def transform(self, X, y=None): \n",
        "        X = pd.DataFrame(X)\n",
        "        \n",
        "        if self.data_ != None:\n",
        "            return pd.DataFrame(X.apply(\n",
        "                lambda row: pd.Series( self.transformation(row[self.column_name_], self.data_)),\n",
        "                axis = 1\n",
        "            ))\n",
        "        else:\n",
        "            return pd.DataFrame(X.apply(\n",
        "                lambda row: pd.Series( self.transformation(row[self.column_name_])),\n",
        "                axis = 1\n",
        "            ))\n",
        "        \n",
        "        \n",
        "from sklearn.preprocessing import LabelEncoder\n",
        "class LabelEncoderP(LabelEncoder):\n",
        "    def fit(self, X, y=None):\n",
        "        super(LabelEncoderP, self).fit(X)\n",
        "    def transform(self, X, y=None):\n",
        "        return pd.DataFrame(super(LabelEncoderP, self).transform(X))\n",
        "    def fit_transform(self, X, y=None):\n",
        "        return super(LabelEncoderP, self).fit(X).transform(X)"
      ],
      "execution_count": 0,
      "outputs": []
    },
    {
      "cell_type": "code",
      "metadata": {
        "colab_type": "code",
        "id": "QgJNaKhbE1RB",
        "colab": {}
      },
      "source": [
        "# Implémenter ici les différentes transformations customs ici pour que cela soit plus claires (Si vous en avez)\n",
        "\n",
        "def parse_native_country(text):\n",
        "    if \"United-States\" not in text:\n",
        "        return \"Other\"\n",
        "    return text\n",
        "\n",
        "\n",
        "def parse_education(text):\n",
        "    if \"1st\" in text \\\n",
        "            or \"5th\" in text \\\n",
        "            or \"7th\" in text \\\n",
        "            or \"8th\" in text \\\n",
        "            or \"9th\" in text \\\n",
        "            or \"10th\" in text \\\n",
        "            or \"11th\" in text \\\n",
        "            or \"12th\" in text \\\n",
        "            or \"HS\" in text \\\n",
        "            or \"Preschool\" in text:\n",
        "        return \"HS or lower\"\n",
        "    return text\n",
        "\n",
        "\n",
        "def parse_unknown(text):\n",
        "    if \"?\" in text:\n",
        "        return \"Unknown\"\n",
        "    return text\n",
        "\n",
        "\n",
        "def parse_married(text):\n",
        "    if \"Married\" in text:\n",
        "        return \"Married\"\n",
        "    return text\n",
        "\n",
        "\n",
        "def parse_income(text):\n",
        "    if \".\" in text:\n",
        "        return text[:-1]\n",
        "    return text\n",
        "\n",
        "\n",
        "def parse_workclass(text):\n",
        "    words = text.split(\"-\")\n",
        "    if words[0] == \" Self\":\n",
        "        return \"Self-employed\"\n",
        "    elif words[0] == \" Private\":\n",
        "        return \"Private\"\n",
        "    elif len(words) > 1:\n",
        "        if words[1] == \"gov\":\n",
        "            return \"Public\"\n",
        "    return \"Unknown\""
      ],
      "execution_count": 0,
      "outputs": []
    },
    {
      "cell_type": "code",
      "metadata": {
        "colab_type": "code",
        "id": "N97zWoWQXG1K",
        "colab": {}
      },
      "source": [
        "from sklearn.pipeline import Pipeline, FeatureUnion\n",
        "from sklearn.compose import ColumnTransformer\n",
        "from sklearn.impute import SimpleImputer\n",
        "from sklearn.preprocessing import StandardScaler, OneHotEncoder\n",
        "\n",
        "pipeline_workclass = Pipeline([\n",
        "    (\"fill\", SimpleImputer(strategy = 'constant', fill_value=\"Unknown\")),\n",
        "    ('workclass', TransformationWrapper(transformation=parse_workclass)),\n",
        "    (\"encode\", LabelEncoderP()),\n",
        "    (\"oneHotEncode\", OneHotEncoder(categories='auto', sparse=False))\n",
        "])\n",
        "\n",
        "pipeline_income = Pipeline([\n",
        "    ('income', TransformationWrapper(transformation=parse_income))\n",
        "])\n",
        "\n",
        "# pour normaliser\n",
        "pipeline_numerical = Pipeline([\n",
        "    (\"fillna\", SimpleImputer(strategy='mean')),\n",
        "    (\"scaler\", StandardScaler())\n",
        "])\n",
        "\n",
        "# pour binariser\n",
        "pipeline_hot_encode = Pipeline([\n",
        "    (\"encode\", OneHotEncoder(categories='auto', sparse=False))\n",
        "])\n",
        "\n",
        "pipeline_education = Pipeline([\n",
        "    ('education', TransformationWrapper(transformation=parse_education)),\n",
        "    (\"encode\", LabelEncoderP()),\n",
        "    (\"oneHotEncode\", OneHotEncoder(categories='auto', sparse=False))\n",
        "])\n",
        "\n",
        "pipeline_country = Pipeline([\n",
        "    ('native_country', TransformationWrapper(transformation=parse_native_country)),\n",
        "    (\"encode\", LabelEncoderP()),\n",
        "    (\"oneHotEncode\", OneHotEncoder(categories='auto', sparse=False))\n",
        "])\n",
        "\n",
        "pipeline_married = Pipeline([\n",
        "    ('marital_status', TransformationWrapper(transformation=parse_married)),\n",
        "    (\"encode\", LabelEncoderP()),\n",
        "    (\"oneHotEncode\", OneHotEncoder(categories='auto', sparse=False))\n",
        "])\n",
        "\n",
        "pipeline_occupation = Pipeline([\n",
        "    ('unknown', TransformationWrapper(transformation=parse_unknown)),\n",
        "    (\"encode\", LabelEncoderP()),\n",
        "    (\"oneHotEncode\", OneHotEncoder(categories='auto', sparse=False))\n",
        "])\n",
        "\n",
        "full_pipeline = ColumnTransformer([\n",
        "    (\"Age\", pipeline_numerical, [\"Age\"]),\n",
        "    (\"Workclass\", pipeline_workclass, [\"Workclass\"]),\n",
        "    (\"Education\", pipeline_education, [\"Education\"]),\n",
        "    (\"Marital-status\", pipeline_married, [\"Marital-status\"]),\n",
        "    (\"Occupation\", pipeline_occupation, [\"Occupation\"]),\n",
        "    (\"Relationship\", pipeline_hot_encode, [\"Relationship\"]),\n",
        "    (\"Sex\", pipeline_hot_encode, [\"Sex\"]),\n",
        "    (\"Capital-gain\", pipeline_numerical, [\"Capital-gain\"]),\n",
        "    (\"Capital-loss\", pipeline_numerical, [\"Capital-loss\"]),\n",
        "    (\"Hours per week\", pipeline_numerical, [\"Hours per week\"]),\n",
        "    (\"Native country\", pipeline_country, [\"Native country\"]),\n",
        "])"
      ],
      "execution_count": 0,
      "outputs": []
    },
    {
      "cell_type": "markdown",
      "metadata": {
        "colab_type": "text",
        "id": "TcprzRziXG1Q"
      },
      "source": [
        "Lancez le pipeline"
      ]
    },
    {
      "cell_type": "code",
      "metadata": {
        "colab_type": "code",
        "id": "1YAV0fTfXG1R",
        "outputId": "6d07e381-ea1f-49e4-e1bb-eb43864cc761",
        "colab": {
          "base_uri": "https://localhost:8080/",
          "height": 853
        }
      },
      "source": [
        "column_names = [\"Age\",\n",
        "                \"Workclass1\", \"Workclass2\", \"Workclass3\", \"Workclass4\",\n",
        "                \"Education1\", \"Education2\", \"Education3\", \"Education4\",\n",
        "                \"Education5\", \"Education6\", \"Education7\", \"Education8\",\n",
        "                \"MaritalStatus1\", \"MaritalStatus2\", \"MaritalStatus3\", \"MaritalStatus4\", \"MaritalStatus5\",\n",
        "                \"Occupation1\", \"Occupation2\",\n",
        "                \"Occupation3\", \"Occupation4\", \"Occupation5\", \"Occupation6\", \"Occupation7\", \"Occupation8\", \"Occupation9\",\n",
        "                \"Occupation10\", \"Occupation11\", \"Occupation12\", \"Occupation13\", \"Occupation14\", \"Occupation15\",\n",
        "                \"Female\", \"Male\",\n",
        "                \"Relationship1\", \"Relationship2\", \"Relationship3\", \"Relationship4\", \"Relationship5\", \"Relationship6\",\n",
        "                \"Capital-gain\", \"Capital-loss\", \"Hours per week\",\n",
        "                \"NativeCountry1\", \"NativeCountry2\"]\n",
        "X_train_preprocess = pd.DataFrame(full_pipeline.fit_transform(X_train), columns=column_names)\n",
        "X_test_preprocess = pd.DataFrame(full_pipeline.fit_transform(X_test), columns=column_names)\n",
        "print(X_train_preprocess.head())\n",
        "X_test_preprocess.to_csv(\"train_prediction.csv\",index = False)"
      ],
      "execution_count": 0,
      "outputs": [
        {
          "output_type": "stream",
          "text": [
            "/usr/local/lib/python3.6/dist-packages/sklearn/preprocessing/label.py:219: DataConversionWarning: A column-vector y was passed when a 1d array was expected. Please change the shape of y to (n_samples, ), for example using ravel().\n",
            "  y = column_or_1d(y, warn=True)\n",
            "/usr/local/lib/python3.6/dist-packages/sklearn/preprocessing/label.py:252: DataConversionWarning: A column-vector y was passed when a 1d array was expected. Please change the shape of y to (n_samples, ), for example using ravel().\n",
            "  y = column_or_1d(y, warn=True)\n",
            "/usr/local/lib/python3.6/dist-packages/sklearn/preprocessing/label.py:219: DataConversionWarning: A column-vector y was passed when a 1d array was expected. Please change the shape of y to (n_samples, ), for example using ravel().\n",
            "  y = column_or_1d(y, warn=True)\n",
            "/usr/local/lib/python3.6/dist-packages/sklearn/preprocessing/label.py:252: DataConversionWarning: A column-vector y was passed when a 1d array was expected. Please change the shape of y to (n_samples, ), for example using ravel().\n",
            "  y = column_or_1d(y, warn=True)\n",
            "/usr/local/lib/python3.6/dist-packages/sklearn/preprocessing/label.py:219: DataConversionWarning: A column-vector y was passed when a 1d array was expected. Please change the shape of y to (n_samples, ), for example using ravel().\n",
            "  y = column_or_1d(y, warn=True)\n",
            "/usr/local/lib/python3.6/dist-packages/sklearn/preprocessing/label.py:252: DataConversionWarning: A column-vector y was passed when a 1d array was expected. Please change the shape of y to (n_samples, ), for example using ravel().\n",
            "  y = column_or_1d(y, warn=True)\n",
            "/usr/local/lib/python3.6/dist-packages/sklearn/preprocessing/label.py:219: DataConversionWarning: A column-vector y was passed when a 1d array was expected. Please change the shape of y to (n_samples, ), for example using ravel().\n",
            "  y = column_or_1d(y, warn=True)\n",
            "/usr/local/lib/python3.6/dist-packages/sklearn/preprocessing/label.py:252: DataConversionWarning: A column-vector y was passed when a 1d array was expected. Please change the shape of y to (n_samples, ), for example using ravel().\n",
            "  y = column_or_1d(y, warn=True)\n",
            "/usr/local/lib/python3.6/dist-packages/sklearn/preprocessing/label.py:219: DataConversionWarning: A column-vector y was passed when a 1d array was expected. Please change the shape of y to (n_samples, ), for example using ravel().\n",
            "  y = column_or_1d(y, warn=True)\n",
            "/usr/local/lib/python3.6/dist-packages/sklearn/preprocessing/label.py:252: DataConversionWarning: A column-vector y was passed when a 1d array was expected. Please change the shape of y to (n_samples, ), for example using ravel().\n",
            "  y = column_or_1d(y, warn=True)\n",
            "/usr/local/lib/python3.6/dist-packages/sklearn/preprocessing/label.py:219: DataConversionWarning: A column-vector y was passed when a 1d array was expected. Please change the shape of y to (n_samples, ), for example using ravel().\n",
            "  y = column_or_1d(y, warn=True)\n",
            "/usr/local/lib/python3.6/dist-packages/sklearn/preprocessing/label.py:252: DataConversionWarning: A column-vector y was passed when a 1d array was expected. Please change the shape of y to (n_samples, ), for example using ravel().\n",
            "  y = column_or_1d(y, warn=True)\n",
            "/usr/local/lib/python3.6/dist-packages/sklearn/preprocessing/label.py:219: DataConversionWarning: A column-vector y was passed when a 1d array was expected. Please change the shape of y to (n_samples, ), for example using ravel().\n",
            "  y = column_or_1d(y, warn=True)\n",
            "/usr/local/lib/python3.6/dist-packages/sklearn/preprocessing/label.py:252: DataConversionWarning: A column-vector y was passed when a 1d array was expected. Please change the shape of y to (n_samples, ), for example using ravel().\n",
            "  y = column_or_1d(y, warn=True)\n",
            "/usr/local/lib/python3.6/dist-packages/sklearn/preprocessing/label.py:219: DataConversionWarning: A column-vector y was passed when a 1d array was expected. Please change the shape of y to (n_samples, ), for example using ravel().\n",
            "  y = column_or_1d(y, warn=True)\n",
            "/usr/local/lib/python3.6/dist-packages/sklearn/preprocessing/label.py:252: DataConversionWarning: A column-vector y was passed when a 1d array was expected. Please change the shape of y to (n_samples, ), for example using ravel().\n",
            "  y = column_or_1d(y, warn=True)\n",
            "/usr/local/lib/python3.6/dist-packages/sklearn/preprocessing/label.py:219: DataConversionWarning: A column-vector y was passed when a 1d array was expected. Please change the shape of y to (n_samples, ), for example using ravel().\n",
            "  y = column_or_1d(y, warn=True)\n",
            "/usr/local/lib/python3.6/dist-packages/sklearn/preprocessing/label.py:252: DataConversionWarning: A column-vector y was passed when a 1d array was expected. Please change the shape of y to (n_samples, ), for example using ravel().\n",
            "  y = column_or_1d(y, warn=True)\n",
            "/usr/local/lib/python3.6/dist-packages/sklearn/preprocessing/label.py:219: DataConversionWarning: A column-vector y was passed when a 1d array was expected. Please change the shape of y to (n_samples, ), for example using ravel().\n",
            "  y = column_or_1d(y, warn=True)\n",
            "/usr/local/lib/python3.6/dist-packages/sklearn/preprocessing/label.py:252: DataConversionWarning: A column-vector y was passed when a 1d array was expected. Please change the shape of y to (n_samples, ), for example using ravel().\n",
            "  y = column_or_1d(y, warn=True)\n"
          ],
          "name": "stderr"
        },
        {
          "output_type": "stream",
          "text": [
            "        Age  Workclass1  ...  NativeCountry1  NativeCountry2\n",
            "0 -0.190154         1.0  ...             1.0             0.0\n",
            "1  0.974165         0.0  ...             1.0             0.0\n",
            "2 -0.190154         1.0  ...             1.0             0.0\n",
            "3  0.246465         0.0  ...             1.0             0.0\n",
            "4  0.392005         1.0  ...             1.0             0.0\n",
            "\n",
            "[5 rows x 46 columns]\n"
          ],
          "name": "stdout"
        }
      ]
    },
    {
      "cell_type": "markdown",
      "metadata": {
        "colab_type": "text",
        "id": "jZWQoaa2XG1Z"
      },
      "source": [
        "# 3. Model selection (2 points)"
      ]
    },
    {
      "cell_type": "markdown",
      "metadata": {
        "colab_type": "text",
        "id": "JxwJyM9gXG1Z"
      },
      "source": [
        "Encodage de la classe cible sous forme d'entiers pour l'utiliser\n",
        "avec les algorithmes de scikit-learn. Vous devez avoir 2 classes."
      ]
    },
    {
      "cell_type": "code",
      "metadata": {
        "colab_type": "code",
        "id": "mXfDgss4XG1a",
        "outputId": "825377e7-b739-47ac-b139-c95de58e79c3",
        "colab": {
          "base_uri": "https://localhost:8080/",
          "height": 139
        }
      },
      "source": [
        "from sklearn.preprocessing import LabelEncoder\n",
        "y_train.loc[y_train == ' >50K.' ] = ' >50K'\n",
        "y_train.loc[y_train == ' <=50K.'] = ' <=50K'\n",
        "target_label = LabelEncoder()\n",
        "y_train_label = target_label.fit_transform(y_train)\n",
        "print(y_train_label)"
      ],
      "execution_count": 0,
      "outputs": [
        {
          "output_type": "stream",
          "text": [
            "[1 1 0 ... 0 0 0]\n"
          ],
          "name": "stdout"
        },
        {
          "output_type": "stream",
          "text": [
            "/usr/local/lib/python3.6/dist-packages/pandas/core/indexing.py:205: SettingWithCopyWarning: \n",
            "A value is trying to be set on a copy of a slice from a DataFrame\n",
            "\n",
            "See the caveats in the documentation: http://pandas.pydata.org/pandas-docs/stable/user_guide/indexing.html#returning-a-view-versus-a-copy\n",
            "  self._setitem_with_indexer(indexer, value)\n"
          ],
          "name": "stderr"
        }
      ]
    },
    {
      "cell_type": "markdown",
      "metadata": {
        "colab_type": "text",
        "id": "5ekhKj0cXG1e"
      },
      "source": [
        "## 3.1 Ensemble de validation (0.5 point)\n",
        "Pour comparer différents modèles entre eux, on ne peut pas utiliser\n",
        "l'ensemble de test, sinon on serait tenté de garder le modèle correspondant le mieux à l'ensemble de test ce qui pourrait conduire à l'overfitting.\n",
        "\n",
        "Il est d'usage de créer un nouvel ensemble de la taille de l'ensemble de test, l'ensemble de **validation**.\n",
        "\n",
        "###  Cross-validation\n",
        "\n",
        "La cross-validation est une méthode utile pour comparer la performance de différents modèles de machine learning **sans créer d'ensemble de validation**.\n",
        "\n",
        "Il existe différents types de cross-validation, la procédure la plus classique est la suivante:\n",
        "* Diviser aléatoirement l'ensemble d'entraînement en deux parties (90%/10% par exemple).\n",
        "* Entraîner le modèle sur la plus grande partie, et le tester sur l'autre partie.\n",
        "* Recommencer n fois\n",
        "* Calculer la moyenne et l'écart type des résultats\n",
        "\n",
        "Les avantages sont les suivants:\n",
        "* Considérer la totalité de l'ensemble d'entraînement pour l'évaluation (sans se priver de l'ensemble de validation)\n",
        "* Obtenir l'écart-type des résultats permet une meilleure évaluation de la précision du modèle.\n",
        "\n",
        "L'inconvénient principal est le temps de calcul, étant donné que l'on effectue l'apprentissage du modèle plusieurs fois, cette méthode peut être impossible pour des datasets contenant un grand nombre d'exemple (> 10e5)\n",
        "\n",
        "### Implémentation\n",
        "1. Implémenter la fonction `compare()`. Cette fonction effectue la crossvalidation pour différents modèles et retourne la moyenne et l'écart-type des métriques pour chaque modèle.\n",
        "\n"
      ]
    },
    {
      "cell_type": "code",
      "metadata": {
        "colab_type": "code",
        "id": "WF3S-utAXG1k",
        "colab": {}
      },
      "source": [
        "from sklearn.model_selection import cross_validate\n",
        "def compare(models, X_train, y_train, nb_runs, scoring):\n",
        "    scores = []\n",
        "    \n",
        "    for model in models:\n",
        "        print(\"start\")\n",
        "        score = cross_validate(model, X_train, y_train, cv=nb_runs, scoring=scoring)\n",
        "        scores.append(score)\n",
        "    return scores"
      ],
      "execution_count": 0,
      "outputs": []
    },
    {
      "cell_type": "markdown",
      "metadata": {
        "colab_type": "text",
        "id": "GMqcqhGxXG1j"
      },
      "source": [
        "## 3.2 Essai de modèle de sklearn (0.5 point)\n",
        "\n",
        "\n",
        "**Choisir au moins deux modèles permettant la classification binaire sur sklearn en plus du modèle implémenté dans la première partie du TP**.\n",
        "\n",
        "**En vous basant sur les différentes métriques retournées par la fonction `compare()`, concluez quant au modèle le plus performant.**\n",
        "\n",
        "Evaluez les modèles pour les différentes métriques proposées:\n",
        "* **log loss**: c'est la métrique d'évaluation de kaggle\n",
        "* **precision**: correspond à la qualité de la prédiction, le nombre de classes correctement prédites par le nombre de prédiction total\n",
        "* **recall**: le nombre d'éléments appartenant à une classe, identifiés comme tel, divisé par le nombre total des éléments de cette classe.\n",
        "* **f-score**: une moyenne de la precision et du recall\n",
        "\n",
        "**Remarque: precision et recall sont deux mesures complémentaires pour l'évaluation d'un modèle de classification.**\n",
        "\n",
        "Dans le cas d'une classification binaire avec un déséquilibre de la classe cible important, (90%/10%), en évaluant le résultat de la classification avec l'accuracy (nombre de prédictions correctes divisé par le nombre de prédictions total), on peut obtenir un très bon score (90% d'accuracy) en choisissant de prédire systématiquement la classe majoritaire.\n",
        "\n",
        "Dans un tel cas, la precision serait élevée de même, mais le recall serait très bas , nous indiquant la médiocrité de notre modèle.\n"
      ]
    },
    {
      "cell_type": "code",
      "metadata": {
        "colab_type": "code",
        "id": "gSsKSE6cXG1n",
        "outputId": "8933fe43-e08c-4ae1-e14b-1281a25b1a07",
        "colab": {
          "base_uri": "https://localhost:8080/",
          "height": 136
        }
      },
      "source": [
        "from sklearn.ensemble import RandomForestClassifier\n",
        "from sklearn.neural_network import MLPClassifier\n",
        "from sklearn.tree import DecisionTreeClassifier\n",
        "from sklearn.neighbors import KNeighborsClassifier\n",
        "from sklearn.naive_bayes import GaussianNB\n",
        "from sklearn.model_selection import GridSearchCV\n",
        "from sklearn.ensemble import GradientBoostingClassifier\n",
        "\n",
        "\n",
        "nb_run = 3\n",
        "\n",
        "models = [\n",
        "    #SoftmaxClassifier(), # le modele que vous avez implémenté plus haut\n",
        "    #RandomForestClassifier(criterion='entropy', max_depth=7, max_features='auto', n_estimators=500),#10\n",
        "    #GradientBoostingClassifier(n_estimators=250, learning_rate=0.1, max_depth=4, random_state=42),#11\n",
        "    GradientBoostingClassifier(n_estimators=100, learning_rate=0.1, max_depth=4, random_state=42),#13\n",
        "    #GaussianNB(),\n",
        "    #DecisionTreeClassifier(),\n",
        "    #KNeighborsClassifier(),\n",
        "    #MLPClassifier(hidden_layer_sizes=(10,10,10), max_iter=500, solver=\"adam\", learning_rate='adaptive', activation='logistic')#12\n",
        "]\n",
        "\n",
        "scoring = ['neg_log_loss', 'precision_macro','recall_macro','f1_macro']\n",
        "\n",
        "# parameter_space = {\n",
        "#     'hidden_layer_sizes': [(12,12,12), (13,13,13)],\n",
        "# }\n",
        "# print(\"start\")\n",
        "# clf = GridSearchCV(models[5], parameter_space, n_jobs=-1, cv=3)\n",
        "# clf.fit(X_train_preprocess, y_train_label)\n",
        "\n",
        "# #best results \n",
        "# print('Best parameters found:\\n', clf.best_params_)\n",
        "# # All results\n",
        "# means = clf.cv_results_['mean_test_score']\n",
        "# stds = clf.cv_results_['std_test_score']\n",
        "# for mean, std, params in zip(means, stds, clf.cv_results_['params']):\n",
        "#     print(\"%0.3f (+/-%0.03f) for %r\" % (mean, std * 2, params))\n",
        "\n",
        "compare(models, X_train_preprocess, y_train_label, nb_run, scoring)"
      ],
      "execution_count": 0,
      "outputs": [
        {
          "output_type": "stream",
          "text": [
            "start\n"
          ],
          "name": "stdout"
        },
        {
          "output_type": "execute_result",
          "data": {
            "text/plain": [
              "[{'fit_time': array([5.14983058, 5.14020395, 4.93606329]),\n",
              "  'score_time': array([0.10953736, 0.1069777 , 0.10814881]),\n",
              "  'test_f1_macro': array([0.80066456, 0.8029933 , 0.80438823]),\n",
              "  'test_neg_log_loss': array([-0.28715202, -0.28787699, -0.28749585]),\n",
              "  'test_precision_macro': array([0.83779524, 0.82889655, 0.8333524 ]),\n",
              "  'test_recall_macro': array([0.77713443, 0.78465561, 0.78446948])}]"
            ]
          },
          "metadata": {
            "tags": []
          },
          "execution_count": 35
        }
      ]
    },
    {
      "cell_type": "markdown",
      "metadata": {
        "colab_type": "text",
        "id": "kutzIhLu1frH"
      },
      "source": [
        "Justification pour le meilleur modèle\n",
        "\n",
        "Suite aux résultats obtenus, nous avons choisi le classificateur RandomForestClassifier pour l'apprentissage du dataset. En effet, avec un peu d'ajustement des hyper-paramètres, ce classificateur obtient de bons résultats en un temps très court par rapport aux deux autres. On observe notamment:\n",
        "\n",
        "Le log-loss est le deuxième des trois classificateurs testés.\n",
        "La précision est bien meilleure (~ 0.825) que les deux autres classificateurs.\n",
        "Le recall n'est pas le meilleur, mais se rapproche de celui du MLP tout en étant relativement stable (peu de variance).\n",
        "Le F-score n'est également pas le meilleur ni le plus invariant, mais la rapidité d'entraînement du classificateur est nettement meilleur que celui du MLP.\n",
        "\n",
        "Le classificateur Softmax que nous avons implémenté n'est pas dans la course; le log-loss est très important et la précision n'est pas comparable aux deux autres méthodes utilisées. Pour contrebalancer ce désavantage, il faudrait effectuer de nombreuses epoch (bien plus que 1000), en plus d'ajuster très finement les hyper-paramètres, ce qui demande beaucoup de temps.\n",
        "\n",
        "Sinon, MLP est un classificateur très intéressant, mais qui requiert un temps d'entraînement très long, ce qui rend le testage des hyper-paramètres plus difficile (même en utilisant GridSearchCV pour tester les différents hyper-paramètres)."
      ]
    },
    {
      "cell_type": "markdown",
      "metadata": {
        "colab_type": "text",
        "id": "_th8iyQ2XG1u"
      },
      "source": [
        "## 3.3 Matrice de confusion (0.5 point)\n",
        "\n",
        "La matrice de confusion A est telle que $A_{i,j}$ correspond au nombre d'exemples de la classe i classifié comme appartenant à la classe j.\n",
        "\n",
        "Entrainez le modèle sélectionné sur la totalité de l'ensemble d'entraînement.\n",
        "A l'aide de la matrice de confusion et de la distribution des classes, analysez plus en détail les performances du modèle choisi et **justifiez** les."
      ]
    },
    {
      "cell_type": "code",
      "metadata": {
        "colab_type": "code",
        "id": "k_jCDj02XG1v",
        "colab": {}
      },
      "source": [
        "# Train selected model\n",
        "\n",
        "selected_model = models[0]\n",
        "selected_model.fit(X_train_preprocess, y_train_label)\n",
        "y_pred = selected_model.predict(X_train_preprocess)"
      ],
      "execution_count": 0,
      "outputs": []
    },
    {
      "cell_type": "markdown",
      "metadata": {
        "colab_type": "text",
        "id": "ncXnd9W4XG1-"
      },
      "source": [
        "###### Matrice de confusion"
      ]
    },
    {
      "cell_type": "code",
      "metadata": {
        "colab_type": "code",
        "id": "fV5tkE0bXG1_",
        "outputId": "805b7c14-79e9-4b3b-c2dd-561c3ac877b8",
        "colab": {
          "base_uri": "https://localhost:8080/",
          "height": 111
        }
      },
      "source": [
        "from sklearn.metrics import confusion_matrix\n",
        "pd.DataFrame(confusion_matrix(y_train_label, y_pred), columns = target_label.classes_, index = target_label.classes_)"
      ],
      "execution_count": 0,
      "outputs": [
        {
          "output_type": "execute_result",
          "data": {
            "text/html": [
              "<div>\n",
              "<style scoped>\n",
              "    .dataframe tbody tr th:only-of-type {\n",
              "        vertical-align: middle;\n",
              "    }\n",
              "\n",
              "    .dataframe tbody tr th {\n",
              "        vertical-align: top;\n",
              "    }\n",
              "\n",
              "    .dataframe thead th {\n",
              "        text-align: right;\n",
              "    }\n",
              "</style>\n",
              "<table border=\"1\" class=\"dataframe\">\n",
              "  <thead>\n",
              "    <tr style=\"text-align: right;\">\n",
              "      <th></th>\n",
              "      <th>&lt;=50K</th>\n",
              "      <th>&gt;50K</th>\n",
              "    </tr>\n",
              "  </thead>\n",
              "  <tbody>\n",
              "    <tr>\n",
              "      <th>&lt;=50K</th>\n",
              "      <td>23664</td>\n",
              "      <td>1285</td>\n",
              "    </tr>\n",
              "    <tr>\n",
              "      <th>&gt;50K</th>\n",
              "      <td>2844</td>\n",
              "      <td>4930</td>\n",
              "    </tr>\n",
              "  </tbody>\n",
              "</table>\n",
              "</div>"
            ],
            "text/plain": [
              "         <=50K   >50K\n",
              " <=50K   23664   1285\n",
              " >50K     2844   4930"
            ]
          },
          "metadata": {
            "tags": []
          },
          "execution_count": 37
        }
      ]
    },
    {
      "cell_type": "markdown",
      "metadata": {
        "colab_type": "text",
        "id": "2HyBqtMjXG2B"
      },
      "source": [
        "###### Distribution des classes"
      ]
    },
    {
      "cell_type": "code",
      "metadata": {
        "colab_type": "code",
        "id": "Z_emYEYKXG2B",
        "outputId": "bd9de56b-ff65-4b76-b2e2-f78681e12b17",
        "colab": {
          "base_uri": "https://localhost:8080/",
          "height": 299
        }
      },
      "source": [
        "import matplotlib.pyplot as plt \n",
        "print(target_label.classes_)\n",
        "pd.Series(y_train_label).hist()"
      ],
      "execution_count": 0,
      "outputs": [
        {
          "output_type": "stream",
          "text": [
            "[' <=50K' ' >50K']\n"
          ],
          "name": "stdout"
        },
        {
          "output_type": "execute_result",
          "data": {
            "text/plain": [
              "<matplotlib.axes._subplots.AxesSubplot at 0x7fda4be5ff98>"
            ]
          },
          "metadata": {
            "tags": []
          },
          "execution_count": 38
        },
        {
          "output_type": "display_data",
          "data": {
            "image/png": "[encoded data removed]",
            "text/plain": [
              "<Figure size 432x288 with 1 Axes>"
            ]
          },
          "metadata": {
            "tags": []
          }
        }
      ]
    },
    {
      "cell_type": "markdown",
      "metadata": {
        "colab_type": "text",
        "id": "ee-L7b131tf3"
      },
      "source": [
        "Justification avec la matrice de confusion et la distribution des classes\n",
        "\n",
        "Avec la matrice de confusion, on voit que les gens ayant un salaire <= 50K sont prédits à 96%, alors que ceux avec un salaire plus élevé que 50K sont prédits à seulement 53%. Cela s'explique probablement par le plus grand nombre de données avec un salaire <= 50K dans le jeu de données d'entraînement. Pour les données avec un salaire plus élevée que 50K, nous avons probablement mal correlés certaines facteurs. Toutefois, avec un score de 0,86066 , on juge avoir tout de même un bon jeu de données modifiées. On ne veut pas faire du overfitting non plus."
      ]
    },
    {
      "cell_type": "markdown",
      "metadata": {
        "colab_type": "text",
        "id": "5lfReUdgXG2I"
      },
      "source": [
        "## 3.4 Soumission (0.5 point)\n",
        "\n",
        "Enfin, effectuez la prédiction sur l'ensemble de test et joignez les résultats au rendu du TP. Vous devez soumettre vos résultats sur kaggle. Vous pouvez choisir jusqu'à deux modèles. Par défaut, les deux dernières soumissions sont prises. La justification (les section 3.2 et 3.3) sont seulement demandée pour le meilleur modèle selon vous.\n",
        "\n",
        "**ATTENTION:** N'oubliez pas de respecter le format du fichier de soumission. En cas d'erreur, Kaggle score 0.0 pour la soumission."
      ]
    },
    {
      "cell_type": "code",
      "metadata": {
        "colab_type": "code",
        "id": "-deVgNIpXG2J",
        "colab": {}
      },
      "source": [
        "best_model_1 = selected_model\n",
        "pred_test = pd.DataFrame()\n",
        "pred_test['index'] = X_test['index']\n",
        "pred_test['Income'] = pd.Series(best_model_1.predict(X_test_preprocess))\n",
        "pred_test['Income'] = target_label.inverse_transform(pred_test['Income'])\n",
        "pred_test.to_csv(PATH+\"test_prediction_13.csv\",index = False)"
      ],
      "execution_count": 0,
      "outputs": []
    },
    {
      "cell_type": "code",
      "metadata": {
        "id": "T4ky9HZuMXk4",
        "colab_type": "code",
        "colab": {}
      },
      "source": [
        ""
      ],
      "execution_count": 0,
      "outputs": []
    }
  ]
}